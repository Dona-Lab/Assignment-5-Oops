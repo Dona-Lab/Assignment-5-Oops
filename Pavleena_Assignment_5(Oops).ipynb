{
  "nbformat": 4,
  "nbformat_minor": 0,
  "metadata": {
    "colab": {
      "provenance": []
    },
    "kernelspec": {
      "name": "python3",
      "display_name": "Python 3"
    },
    "language_info": {
      "name": "python"
    }
  },
  "cells": [
    {
      "cell_type": "markdown",
      "source": [
        "Assignment:Create a movie rating log using oops concept for rating the movies (you can use attributes like movie names, story rating, actor rating, music rating and overall avg rating)"
      ],
      "metadata": {
        "id": "GxtBlC1BKaN0"
      }
    },
    {
      "cell_type": "code",
      "source": [
        "class Movie_rating:\n",
        "\n",
        "  def __init__(self,movie_name,story_rating,actor_rating,music_rating):\n",
        "     self.movie_name=movie_name\n",
        "     self.story_rating=story_rating\n",
        "     self.actor_rating=actor_rating\n",
        "     self.music_rating=music_rating\n",
        "     self.avg_rating=(self.story_rating+self.actor_rating+self.music_rating)/3\n",
        "\n",
        "     self.movie= {\n",
        "        \"Movie name\": self.movie_name,\n",
        "        \"Story rating\":self.story_rating,\n",
        "        \"Actor rating\":self.actor_rating,\n",
        "        \"Music rating\":self.music_rating,\n",
        "        \"Avg rating\":self.avg_rating\n",
        "        }\n",
        "\n",
        "\n",
        "  def add_movie_rating( self,movie_list):\n",
        "    movie_list.append(self.movie)\n",
        "\n",
        "  def view_movie_rating(self,movie_list):\n",
        "    print(movie_list)\n",
        "\n",
        "\n",
        "moviereviews=[]\n",
        "\n",
        "review1=Movie_rating(\"Hero\",3,5,4)\n",
        "\n",
        "review1.add_movie_rating(moviereviews)\n",
        "review1.view_movie_rating(moviereviews)\n"
      ],
      "metadata": {
        "colab": {
          "base_uri": "https://localhost:8080/"
        },
        "id": "3no3i3mMVVGh",
        "outputId": "7aa205c1-2855-4a92-f350-9306d7c92546"
      },
      "execution_count": 13,
      "outputs": [
        {
          "output_type": "stream",
          "name": "stdout",
          "text": [
            "[{'Movie name': 'Hero', 'Story rating': 3, 'Actor rating': 5, 'Music rating': 4, 'Avg rating': 4.0}]\n"
          ]
        }
      ]
    },
    {
      "cell_type": "code",
      "source": [
        "review2=Movie_rating(\"trap\",1,4,4)\n",
        "\n",
        "review2.add_movie_rating(moviereviews)\n",
        "review2.view_movie_rating(moviereviews)"
      ],
      "metadata": {
        "colab": {
          "base_uri": "https://localhost:8080/"
        },
        "id": "1aIBWA8OVt9o",
        "outputId": "407f04ba-bfeb-4b7f-f6df-bf58f10b9338"
      },
      "execution_count": 14,
      "outputs": [
        {
          "output_type": "stream",
          "name": "stdout",
          "text": [
            "[{'Movie name': 'Hero', 'Story rating': 3, 'Actor rating': 5, 'Music rating': 4, 'Avg rating': 4.0}, {'Movie name': 'trap', 'Story rating': 1, 'Actor rating': 4, 'Music rating': 4, 'Avg rating': 3.0}]\n"
          ]
        }
      ]
    }
  ]
}